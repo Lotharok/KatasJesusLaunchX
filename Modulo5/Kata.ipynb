{
 "cells": [
  {
   "cell_type": "code",
   "execution_count": 7,
   "metadata": {},
   "outputs": [
    {
     "name": "stdout",
     "output_type": "stream",
     "text": [
      "628949330\n",
      "1012195830.53952\n"
     ]
    }
   ],
   "source": [
    "distancia_tierra = 149597870\n",
    "distancia_jupiter = 778547200\n",
    "\n",
    "print(abs(distancia_tierra - distancia_jupiter))\n",
    "print((distancia_jupiter - distancia_tierra) * 1.609344)"
   ]
  },
  {
   "cell_type": "code",
   "execution_count": 8,
   "metadata": {},
   "outputs": [
    {
     "name": "stdout",
     "output_type": "stream",
     "text": [
      "90\n",
      "55.89\n"
     ]
    }
   ],
   "source": [
    "pregunta = \"¿Cual es la distancia del {} planeta al sol?\"\n",
    "distancia_planeta1 = int(input(pregunta.format(\"primera\")))\n",
    "distancia_planeta2 = int(input(pregunta.format(\"segunda\")))\n",
    "distancia_entre_planetas = abs(distancia_planeta1 - distancia_planeta2)\n",
    "print(distancia_entre_planetas)\n",
    "print(distancia_entre_planetas * 0.621)"
   ]
  }
 ],
 "metadata": {
  "interpreter": {
   "hash": "2be5faf79681da6f2a61fdfdd5405d65d042280f7fba6178067603e3a2925119"
  },
  "kernelspec": {
   "display_name": "Python 3.10.2 64-bit",
   "language": "python",
   "name": "python3"
  },
  "language_info": {
   "codemirror_mode": {
    "name": "ipython",
    "version": 3
   },
   "file_extension": ".py",
   "mimetype": "text/x-python",
   "name": "python",
   "nbconvert_exporter": "python",
   "pygments_lexer": "ipython3",
   "version": "3.10.2"
  },
  "orig_nbformat": 4
 },
 "nbformat": 4,
 "nbformat_minor": 2
}
