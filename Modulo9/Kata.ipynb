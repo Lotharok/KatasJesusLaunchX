{
 "cells": [
  {
   "cell_type": "code",
   "execution_count": 36,
   "metadata": {},
   "outputs": [
    {
     "name": "stdout",
     "output_type": "stream",
     "text": [
      "Reporte:\n",
      "    Promedio: 3.0\n",
      "    Tanque 1: 2\n",
      "    Tanque 2: 3\n",
      "    Tanque 3: 4\n",
      "    \n"
     ]
    }
   ],
   "source": [
    "def informe_gasolina(tanque1, tanque2, tanque3):\n",
    "    promedio = (tanque1+tanque2+tanque3)/3\n",
    "    return f\"\"\"Reporte:\n",
    "    Promedio: {promedio}\n",
    "    Tanque 1: {tanque1}\n",
    "    Tanque 2: {tanque2}\n",
    "    Tanque 3: {tanque3}\n",
    "    \"\"\"\n",
    "\n",
    "print(informe_gasolina(2,3,4))"
   ]
  },
  {
   "cell_type": "code",
   "execution_count": 37,
   "metadata": {},
   "outputs": [
    {
     "name": "stdout",
     "output_type": "stream",
     "text": [
      "Reporte:\n",
      "    Promedio: 3.0\n",
      "    Tanque 1: 2\n",
      "    Tanque 2: 3\n",
      "    Tanque 3: 4\n",
      "    \n"
     ]
    }
   ],
   "source": [
    "def informe_gasolina(tanque1, tanque2, tanque3):\n",
    "    promedio = promedio_gasolina(tanque1, tanque2, tanque3)\n",
    "    return f\"\"\"Reporte:\n",
    "    Promedio: {promedio}\n",
    "    Tanque 1: {tanque1}\n",
    "    Tanque 2: {tanque2}\n",
    "    Tanque 3: {tanque3}\n",
    "    \"\"\"\n",
    "\n",
    "def promedio_gasolina(*args):\n",
    "    elementos = len(args)\n",
    "    if elementos == 0:\n",
    "        return 0\n",
    "\n",
    "    total = sum(args)\n",
    "    return total/elementos\n",
    "\n",
    "print(informe_gasolina(2,3,4))"
   ]
  },
  {
   "cell_type": "code",
   "execution_count": 38,
   "metadata": {},
   "outputs": [
    {
     "name": "stdout",
     "output_type": "stream",
     "text": [
      "\n",
      "    Mision a Marte\n",
      "    Tiempo de vuelo: 61 minutes\n",
      "    Combustible: 60 litros\n",
      "    \n"
     ]
    }
   ],
   "source": [
    "def reporte(lanzamiento, tiempo_vuelo, destino, tanque, tanque_externo):\n",
    "    return f\"\"\"\n",
    "    Mision a {destino}\n",
    "    Tiempo de vuelo: {lanzamiento + tiempo_vuelo} minutes\n",
    "    Combustible: {tanque_externo + tanque} litros\n",
    "    \"\"\"\n",
    "\n",
    "print(reporte(60, 1, \"Marte\", 10, 50))"
   ]
  },
  {
   "cell_type": "code",
   "execution_count": 39,
   "metadata": {},
   "outputs": [
    {
     "name": "stdout",
     "output_type": "stream",
     "text": [
      "\n",
      "    Mision a Marte\n",
      "    Tiempo de vuelo: 70 minutes\n",
      "    Combustible: 60 litros\n",
      "    \n"
     ]
    }
   ],
   "source": [
    "def reporte(destino, *tiempos, **tanques):\n",
    "    return f\"\"\"\n",
    "    Mision a {destino}\n",
    "    Tiempo de vuelo: {sum(tiempos)} minutes\n",
    "    Combustible: {sum(tanques.values())} litros\n",
    "    \"\"\"\n",
    "\n",
    "print(reporte(\"Marte\", 10, 50, 10, principal = 10, externo = 50))"
   ]
  },
  {
   "cell_type": "code",
   "execution_count": 40,
   "metadata": {},
   "outputs": [
    {
     "name": "stdout",
     "output_type": "stream",
     "text": [
      "\n",
      "    Mision a Marte\n",
      "    Tiempo de vuelo: 70 minutes\n",
      "    Combustible: 60 litros\n",
      "    tanque principal: 10 litros\n",
      "tanque externo: 50 litros\n",
      "\n"
     ]
    }
   ],
   "source": [
    "def reporte(destino, *tiempos, **tanques):\n",
    "    reporte = f\"\"\"\n",
    "    Mision a {destino}\n",
    "    Tiempo de vuelo: {sum(tiempos)} minutes\n",
    "    Combustible: {sum(tanques.values())} litros\n",
    "    \"\"\"\n",
    "    for nombre, litros in tanques.items():\n",
    "        reporte += f\"tanque {nombre}: {litros} litros\\n\"\n",
    "    return reporte\n",
    "\n",
    "print(reporte(\"Marte\", 10, 50, 10, principal = 10, externo = 50))"
   ]
  }
 ],
 "metadata": {
  "interpreter": {
   "hash": "2be5faf79681da6f2a61fdfdd5405d65d042280f7fba6178067603e3a2925119"
  },
  "kernelspec": {
   "display_name": "Python 3.10.2 64-bit",
   "language": "python",
   "name": "python3"
  },
  "language_info": {
   "codemirror_mode": {
    "name": "ipython",
    "version": 3
   },
   "file_extension": ".py",
   "mimetype": "text/x-python",
   "name": "python",
   "nbconvert_exporter": "python",
   "pygments_lexer": "ipython3",
   "version": "3.10.2"
  },
  "orig_nbformat": 4
 },
 "nbformat": 4,
 "nbformat_minor": 2
}
