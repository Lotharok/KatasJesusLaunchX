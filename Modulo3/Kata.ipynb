{
 "cells": [
  {
   "cell_type": "code",
   "execution_count": 2,
   "metadata": {},
   "outputs": [
    {
     "name": "stdout",
     "output_type": "stream",
     "text": [
      "Con cuidado asteroide cerca\n"
     ]
    }
   ],
   "source": [
    "velocidad = 49\n",
    "if velocidad > 25:\n",
    "    print('Con cuidado asteroide cerca')\n",
    "else:\n",
    "    print('No hay problema')"
   ]
  },
  {
   "cell_type": "code",
   "execution_count": 3,
   "metadata": {},
   "outputs": [
    {
     "name": "stdout",
     "output_type": "stream",
     "text": [
      "No hay problema\n"
     ]
    }
   ],
   "source": [
    "velocidad = 19\n",
    "if velocidad > 25:\n",
    "    print('Con cuidado asteroide cerca')\n",
    "elif velocidad >= 20:\n",
    "    print(\"Alerta hay un asteroide cerca, busquenlo en el cielo\")\n",
    "else:\n",
    "    print('No hay problema')"
   ]
  },
  {
   "cell_type": "code",
   "execution_count": null,
   "metadata": {},
   "outputs": [],
   "source": [
    "velocidad = 10\n",
    "tamano = 50\n",
    "if velocidad > 25 and tamano > 25:\n",
    "    print('Alerta un asteroide peligroso viene hacia la Tierra')\n",
    "elif velocidad >= 20:\n",
    "    print('Alerta hay un asteroide cerca, busquenlo en el cielo')\n",
    "elif tamano < 25:\n",
    "    print('No hay problema')\n",
    "else:\n",
    "    print('No hay problema')"
   ]
  }
 ],
 "metadata": {
  "interpreter": {
   "hash": "2be5faf79681da6f2a61fdfdd5405d65d042280f7fba6178067603e3a2925119"
  },
  "kernelspec": {
   "display_name": "Python 3.10.2 64-bit",
   "language": "python",
   "name": "python3"
  },
  "language_info": {
   "codemirror_mode": {
    "name": "ipython",
    "version": 3
   },
   "file_extension": ".py",
   "mimetype": "text/x-python",
   "name": "python",
   "nbconvert_exporter": "python",
   "pygments_lexer": "ipython3",
   "version": "3.10.2"
  },
  "orig_nbformat": 4
 },
 "nbformat": 4,
 "nbformat_minor": 2
}
